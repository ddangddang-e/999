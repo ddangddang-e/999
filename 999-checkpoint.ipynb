{
 "cells": [
  {
   "cell_type": "code",
   "execution_count": 1,
   "id": "1d8b6afc-a055-4f4c-8f65-29206d4a6a67",
   "metadata": {},
   "outputs": [
    {
     "name": "stdout",
     "output_type": "stream",
     "text": [
      "Collecting pdfplumber\n",
      "  Downloading pdfplumber-0.11.4-py3-none-any.whl.metadata (41 kB)\n",
      "     ---------------------------------------- 0.0/42.0 kB ? eta -:--:--\n",
      "     ------------------ ------------------- 20.5/42.0 kB 330.3 kB/s eta 0:00:01\n",
      "     -------------------------------------- 42.0/42.0 kB 512.2 kB/s eta 0:00:00\n",
      "Collecting pdfminer.six==20231228 (from pdfplumber)\n",
      "  Downloading pdfminer.six-20231228-py3-none-any.whl.metadata (4.2 kB)\n",
      "Requirement already satisfied: Pillow>=9.1 in c:\\users\\net_c\\anaconda3\\lib\\site-packages (from pdfplumber) (10.3.0)\n",
      "Collecting pypdfium2>=4.18.0 (from pdfplumber)\n",
      "  Downloading pypdfium2-4.30.0-py3-none-win_amd64.whl.metadata (48 kB)\n",
      "     ---------------------------------------- 0.0/48.5 kB ? eta -:--:--\n",
      "     ---------------------------------------- 48.5/48.5 kB 1.2 MB/s eta 0:00:00\n",
      "Requirement already satisfied: charset-normalizer>=2.0.0 in c:\\users\\net_c\\anaconda3\\lib\\site-packages (from pdfminer.six==20231228->pdfplumber) (2.0.4)\n",
      "Requirement already satisfied: cryptography>=36.0.0 in c:\\users\\net_c\\anaconda3\\lib\\site-packages (from pdfminer.six==20231228->pdfplumber) (42.0.5)\n",
      "Requirement already satisfied: cffi>=1.12 in c:\\users\\net_c\\anaconda3\\lib\\site-packages (from cryptography>=36.0.0->pdfminer.six==20231228->pdfplumber) (1.16.0)\n",
      "Requirement already satisfied: pycparser in c:\\users\\net_c\\anaconda3\\lib\\site-packages (from cffi>=1.12->cryptography>=36.0.0->pdfminer.six==20231228->pdfplumber) (2.21)\n",
      "Downloading pdfplumber-0.11.4-py3-none-any.whl (59 kB)\n",
      "   ---------------------------------------- 0.0/59.2 kB ? eta -:--:--\n",
      "   ---------------------------------------- 59.2/59.2 kB ? eta 0:00:00\n",
      "Downloading pdfminer.six-20231228-py3-none-any.whl (5.6 MB)\n",
      "   ---------------------------------------- 0.0/5.6 MB ? eta -:--:--\n",
      "   -- ------------------------------------- 0.4/5.6 MB 8.7 MB/s eta 0:00:01\n",
      "   ----------- ---------------------------- 1.6/5.6 MB 16.9 MB/s eta 0:00:01\n",
      "   -------------------- ------------------- 2.8/5.6 MB 19.9 MB/s eta 0:00:01\n",
      "   ------------------------------ --------- 4.2/5.6 MB 22.5 MB/s eta 0:00:01\n",
      "   ---------------------------------------  5.5/5.6 MB 23.5 MB/s eta 0:00:01\n",
      "   ---------------------------------------- 5.6/5.6 MB 21.1 MB/s eta 0:00:00\n",
      "Downloading pypdfium2-4.30.0-py3-none-win_amd64.whl (2.9 MB)\n",
      "   ---------------------------------------- 0.0/2.9 MB ? eta -:--:--\n",
      "   -------------------- ------------------- 1.5/2.9 MB 31.6 MB/s eta 0:00:01\n",
      "   ---------------------------------------  2.9/2.9 MB 30.9 MB/s eta 0:00:01\n",
      "   ---------------------------------------- 2.9/2.9 MB 26.4 MB/s eta 0:00:00\n",
      "Installing collected packages: pypdfium2, pdfminer.six, pdfplumber\n",
      "Successfully installed pdfminer.six-20231228 pdfplumber-0.11.4 pypdfium2-4.30.0\n"
     ]
    }
   ],
   "source": [
    "!pip install pdfplumber"
   ]
  },
  {
   "cell_type": "code",
   "execution_count": 5,
   "id": "3c2be0dd-90c7-428b-9b01-c684e0c577a6",
   "metadata": {},
   "outputs": [
    {
     "name": "stdout",
     "output_type": "stream",
     "text": [
      "텍스트가 성공적으로 추출되었습니다! 저장 위치: manual_text.txt\n"
     ]
    }
   ],
   "source": [
    "import pdfplumber\n",
    "\n",
    "pdf_path = r\"C:\\Users\\net_c\\OneDrive\\바탕 화면\\manual\\23년도 비상시국민행동요령(종합).pdf\"\n",
    "\n",
    "with pdfplumber.open(pdf_path) as pdf:\n",
    "    # 추출한 텍스트를 저장할 리스트\n",
    "    all_text = []\n",
    "    \n",
    "    # 각 페이지별로 텍스트 추출\n",
    "    for page_number, page in enumerate(pdf.pages, start=1):\n",
    "        text = page.extract_text()  # 페이지 텍스트 추출\n",
    "        all_text.append(f\"--- Page {page_number} ---\\n{text}\\n\")\n",
    "\n",
    "# 추출된 텍스트를 파일로 저장\n",
    "output_path = \"manual_text.txt\"\n",
    "with open(output_path, \"w\", encoding=\"utf-8\") as f:\n",
    "    f.writelines(all_text)\n",
    "\n",
    "print(f\"텍스트가 성공적으로 추출되었습니다! 저장 위치: {output_path}\")\n"
   ]
  },
  {
   "cell_type": "code",
   "execution_count": 9,
   "id": "73a715e9-1167-477d-bb62-13426444eb6c",
   "metadata": {
    "scrolled": true
   },
   "outputs": [
    {
     "name": "stdout",
     "output_type": "stream",
     "text": [
      "--- Page 1 ---\n",
      "비상시 국민행동요령\n",
      "CONTENTS\n",
      "01 •만화(웹툰)로 보는 02\n",
      "비상시 국민행동요령\n",
      "온 가족이 함께\n",
      "안전하게\n",
      "02 •비상시 행동요령 08\n",
      "•민방공 경보 발령시 행동요령 11\n",
      "비상사태시 행동요령 •일상생활 비상대비 3가지 14\n",
      "03 •화학무기 피해대비 행동요령 20\n",
      "•생물학무기 피해대비 행동요령 21\n",
      "화생방 피해대비 •핵·방사능 피폭대비 행동요령 23\n",
      "행동요령 •핵·방사능 피폭대비 생존상식 25\n",
      "04 •대형건물 붕괴·화재시 행동요령 32\n",
      "•전기·물·가스 공급 중단시 행동요령 34\n",
      "인명·시설 피해시 •지하철 피해시 행동요령 35\n",
      "행동요령 •인명·시설 피해복구 행동요령 37\n",
      "05 •비상대비물자 준비요령 40\n",
      "•화생방 대비물자 사용요령 42\n",
      "비상대비물자 •부상자 응급조치 요령 44\n",
      "준비 및 사용요령\n",
      "--- Page 2 ---\n",
      "2 비상시 국민행동요령 알아야 안전하다\n",
      "만화로 보는\n",
      "온 가족이 함께 보고,\n",
      "쉽고 재미있게 배워요!\n",
      "비상시 국민\n",
      "가정에서, 학교에서, 집 밖에서 언제 어디서나 비상대비!\n",
      "행동요령\n",
      "남녀노소 누구나 어렵지 않게 비상시 행동요령을 배워보아요.\n",
      "* 비상사태 정의 : 전시, 사변이나 이에 준하는 비상 시(비상대비에 관한 법률 제2조)\n",
      "엄마가\n",
      "불길한 꿈을\n",
      "꾸었대\n",
      "아빠, 엄마\n",
      "뭐 하시는 거에요?\n",
      "비상사태로 다치고,\n",
      "우리 가족을 잃어버리는\n",
      "꿈을 꾸었다더구나.\n",
      "이제 끝났다!\n",
      "일상생활 중 잘 대비해 놓고\n",
      "평상시 알고 대비하는게\n",
      "비상상황에선\n",
      "가장 중요해.\n",
      "침착하게 대응해야 해.\n",
      "엄마가 공부한\n",
      "비상시 행동요령들,\n",
      "알려줄게!\n",
      "1 경계 경보가 울리면 당황하지 말고 침착하게 평소 준비해 놓았던\n",
      "생활필수품을 확인해야 해요.\n",
      "--- Page 3 ---\n",
      "만화로 보는 비상시 비상사태시 화생방 피해대비 인명〮시설 피해시 비상대비물자\n",
      "3\n",
      "국민행동요령 행동요령 행동요령 행동요령 준비 및 사용요령\n",
      "2\n",
      "단전으로 조명이 꺼지면 단전에 대비하여 평소 준비해야 할 물품에\n",
      "손전등·라이터(성냥) 등이 준비되었는지\n",
      "확인하고\n",
      "3 단수에 대비하여 집안의 욕조, 양동이 4 무\n"
     ]
    }
   ],
   "source": [
    "# 추출된 텍스트 파일 내용 확인\n",
    "with open(\"manual_text.txt\", \"r\", encoding=\"utf-8\") as f:\n",
    "    content = f.read()\n",
    "\n",
    "print(content[:1000])"
   ]
  },
  {
   "cell_type": "markdown",
   "id": "f66c2628-1efa-41b9-9229-77ee05c4c437",
   "metadata": {},
   "source": [
    "**데이터 전처리**"
   ]
  },
  {
   "cell_type": "code",
   "execution_count": 21,
   "id": "a06960bf-921a-4df6-a101-86043bf6d3f4",
   "metadata": {},
   "outputs": [
    {
     "name": "stdout",
     "output_type": "stream",
     "text": [
      "텍스트 정리가 완료되었습니다!\n"
     ]
    }
   ],
   "source": [
    "# 텍스트 정리 함수 정의\n",
    "def clean_text(raw_text):\n",
    "    import re\n",
    "    # 페이지 구분 텍스트 제거\n",
    "    cleaned = re.sub(r\"--- Page \\d+ ---\", \"\", raw_text)\n",
    "    # 여러 개의 공백을 하나로 변환\n",
    "    cleaned = re.sub(r\"\\s+\", \" \", cleaned)\n",
    "    # 불필요한 특수문자 제거\n",
    "    cleaned = cleaned.strip()\n",
    "    return cleaned\n",
    "\n",
    "# 추출된 텍스트 파일 읽기\n",
    "with open(\"manual_text.txt\", \"r\", encoding=\"utf-8\") as f:\n",
    "    raw_text = f.read()\n",
    "\n",
    "# 텍스트 정리\n",
    "cleaned_text = clean_text(raw_text)\n",
    "\n",
    "# 정리된 텍스트 저장\n",
    "with open(\"cleaned_text.txt\", \"w\", encoding=\"utf-8\") as f:\n",
    "    f.write(cleaned_text)\n",
    "\n",
    "print(\"텍스트 정리가 완료되었습니다!\")\n"
   ]
  },
  {
   "cell_type": "code",
   "execution_count": 25,
   "id": "0c47139d-7a29-4bb5-9a4e-c07d42997bcb",
   "metadata": {
    "scrolled": true
   },
   "outputs": [
    {
     "name": "stdout",
     "output_type": "stream",
     "text": [
      "비상시 국민행동요령 CONTENTS 01 •만화(웹툰)로 보는 02 비상시 국민행동요령 온 가족이 함께 안전하게 02 •비상시 행동요령 08 •민방공 경보 발령시 행동요령 11 비상사태시 행동요령 •일상생활 비상대비 3가지 14 03 •화학무기 피해대비 행동요령 20 •생물학무기 피해대비 행동요령 21 화생방 피해대비 •핵·방사능 피폭대비 행동요령 23 행동요령 •핵·방사능 피폭대비 생존상식 25 04 •대형건물 붕괴·화재시 행동요령 32 •전기·물·가스 공급 중단시 행동요령 34 인명·시설 피해시 •지하철 피해시 행동요령 35 행동요령 •인명·시설 피해복구 행동요령 37 05 •비상대비물자 준비요령 40 •화생방 대비물자 사용요령 42 비상대비물자 •부상자 응급조치 요령 44 준비 및 사용요령 2 비상시 국민행동요령 알아야 안전하다 만화로 보는 온 가족이 함께 보고, 쉽고 재미있게 배워요! 비상시 국민 가정에서, 학교에서, 집 밖에서 언제 어디서나 비상대비! 행동요령 남녀노소 누구\n"
     ]
    }
   ],
   "source": [
    "# 추출된 텍스트 파일 내용 확인\n",
    "with open(\"cleaned_text.txt\", \"r\", encoding=\"utf-8\") as f:\n",
    "    content = f.read()\n",
    "\n",
    "print(content[:500])"
   ]
  },
  {
   "cell_type": "code",
   "execution_count": 29,
   "id": "212c9463-c014-45ff-98ea-f974a624de4a",
   "metadata": {},
   "outputs": [
    {
     "name": "stdout",
     "output_type": "stream",
     "text": [
      "제목: 비상시 행동요령\n",
      "내용: 08 •민방공 경보 발령시 행동요령 11 비상사태시 행동요령 •일상생활 비상대비 3가지 14 03 •화학무기 피해대비 행동요령 20 •생물학무기 피해대비 행동요령 21 화생방 피해대비 •핵·방사능 피폭대비 행동요령 23 행동요령 •핵·방사능 피폭대비 생존상식 25 04 •대형건물 붕괴·화재시 행동요령 32 •전기·물·가스 공급 중단시 행동요령 34 인명·시설 피해시 •지하철 피해시 행동요령 35 행동요령 •인명·시설 피해복구 행동요령 37 05 •비상대비물자 준비요령 40 •화생방 대비물자 사용요령 42 비상대비물자 •부상자 응급조치 요령 44 준비 및 사용요령 2 비상시 국민행동요령 알아야 안전하다 만화로 보는 온 가족이 함께 보고, 쉽고 재미있게 배워요! 비상시 국민 가정에서, 학교에서, 집 밖에서 언제 어디서나 비상대비! 행동요령 남녀노소 누구나 어렵지 않게...\n",
      "\n",
      "제목: 비상시 행동요령\n",
      "내용: 을 배워보아요. * 비상사태 정의 : 전시, 사변이나 이에 준하는 비상 시(비상대비에 관한 법률 제2조) 엄마가 불길한 꿈을 꾸었대 아빠, 엄마 뭐 하시는 거에요? 비상사태로 다치고, 우리 가족을 잃어버리는 꿈을 꾸었다더구나. 이제 끝났다! 일상생활 중 잘 대비해 놓고 평상시 알고 대비하는게 비상상황에선 가장 중요해. 침착하게 대응해야 해. 엄마가 공부한...\n",
      "\n",
      "제목: 비상시 행동요령\n",
      "내용: 들, 알려줄게! 1 경계 경보가 울리면 당황하지 말고 침착하게 평소 준비해 놓았던 생활필수품을 확인해야 해요. 만화로 보는 비상시 비상사태시 화생방 피해대비 인명〮시설 피해시 비상대비물자 3 국민행동요령 행동요령 행동요령 행동요령 준비 및 사용요령 2 단전으로 조명이 꺼지면 단전에 대비하여 평소 준비해야 할 물품에 손전등·라이터(성냥) 등이 준비되었는지 확인하고 3 단수에 대비하여 집안의 욕조, 양동이 4 무분별한 통화는 통신망을 마비시키니 등에 물을 미리 받아 두세요. 자제하고 5 비상연락망을 확인! 6 집 밖으로 나가지 말고 정부방송에 귀 기울이며 안내에 따라 행동해야 해요. 정부 민원안내 재난 발생시 110 120 범죄 신고 긴급 구조 112 119 4 비상시 국민행동요령 알아야 안전하다 직장에 있다면 민방공 경보가 난 어떻게 해야 해? 울리면, 위위~~잉잉~~위위~~잉잉 국민 여러분 실제 상황입니다! 1 차차를를 타타고고 이이동동 중중에에는는 도도로로 오오른른쪽쪽에에 2 대피 후에도 계속 정부방송을 들으며 차차를를 세세우우고고,, 키키는는 차차에에 놓놓아아둔둔 채채로로 안내에 따라 행동해야 해요. 가가까까운운 민민방방위위 대대피피시시설설 또또는는 지지하하공공간간으으로로 신신속속히히 대대피피하하고고 3 동원 대상자들은 국가동원령이 선포되면 4 지정된 집결지로 모여 필요한 교육과 가족들에게 연락처 등 필요한 사항을 알리고 임무수행 준비를 해요. 만화로 보는 비상시 비상사태시 화생방 피해대비 인명〮시설 피해시 비상대비물자 5 국민행동요령 행동요령 행동요령 행동요령 준비 및 사용요령 1 건물 붕괴의 위험이 있으므로 엄마, 난 엘리베이터에 탑승하지 않고, 학교에 있을 텐데... 가까운 비상구를 찾아 비상계단을 통해 신속히 2 학교에서 지정한 안전대피구역 인근 민방위 대피시설 또는 건물의 지하공간으로 (지하 대피소 등)으로 대피해야 해요. 대피합니다. 건물 높이의 2배 이상 떨어진 곳이 안전! 친구와 가족들에게 가족이 모두 알고 있어야 비상시 국민행동요령 더욱 안...\n",
      "\n",
      "제목: 비상시 행동요령\n",
      "내용: 비상시 정부 대응 08 비상시 국민행동요령 08 비상사태시 국가동원령 선포 09 배급제 안내 10 행동요령 신고요령 10 민방공 경보 발령시 행동요령 경계경보시 국민행동요령 12 공습경보시 국민행동요령 12 화생방경보 발령시 국민행동요령 13 일상생활 비상대비 3가지 STEP 01 대피장소 확인 15 STEP 02 대피용품 준비 15 STEP 03 신속한 대피 16 - 화학무기 피해 16 - 생물학무기 피해 16 - 핵ㆍ방사능 피해 17...\n",
      "\n",
      "제목: 비상시 행동요령\n",
      "내용: 대피소 안내 POINT 1 준비하기 대피소 표지판을 대피시설 확인 & 준비하고 기억하세요 생필품 준비 대피하고 귀 귀울이세요 가까운 대피 장소를 숙지하고, 전시 대비 생필품 준비 준비 대피 듣기 7 비상사태, 안전을 위해 기억해야 할 3가지 준비하고, 대피하고, 귀 기울이기! 더 많은 내용이 궁금하다면? POINT 2 대피하기 POINT 3 귀 기울이기 비상시 안전가이드 공습시 신속히 정부방송 청취 온 가족이 대피 숙지하면 더욱 안전합니다. 공습이 멎고 조용해지면 민방공 경보에는 신속히 대피 오늘도 안전에 한 걸음 가까이! 정부의 안내에 따라 행동 8 비상시 국민행동요령 알아야 안전하다 비상시 국민 보호 행동요령 정부는 전시·사변(국가적 난리·변고) 또는 이에 준하는 비상상황이 발생 했을 때에는 국민의 안전과 생명을 효과적으로 보호하고 지킵니다. 비상시 정부 대응 국가비상사태 적 공격이 예상되거나 시작되면 국가비상사태를 선포하여 민·관·군이 힘을 합쳐 대응합니다. 국 가 동 원 령 인력·물자·장비 등을 동원하기 위해 국가동원령을 선포하여 국가 위기극복을 지원합니다. 생필품 배급 유사시 국민생활을 안정시키기 위해 생활필수품을 유통·관리 하고 필요시 배급제를 실시합니다. 비상시 국민행동요령 비상사태 발생 시 국민행동요령 3가지! 비상대비 생필품 구비 불필요한 전화 사용 자제 집안에서 안내방송 청취 즉시 가정으로 복귀하되, 동원되는 중점관리대상업체 직원들은 직장으로 복귀합니다. • 국 가기관의 운행 차량을 제외하고는 모든 자동차의 개인차량 운행이 통제 되므로 대중교통 수단을 이용합니다. • 단전ㆍ단수에 대비하여 손전등, 라이터(성냥)를 준비하고, 욕조나 큰 그릇에 물을 받아 두고 아껴 써야 합니다. • 집 밖으로 나오지 말고, TV·라디오·민방위 방송을 계속 들으면서 정부의 TIP 안내에 따라야 합니다. 라면 등 건조·간편 식품을 조리 • 통화량 급증으로 통신망이 마비되지 않도록 불필요한 전화 사용은 자제 하려면 연료와 물이 필요해요. 합니다. 온 가족이 함께 비상...\n",
      "\n"
     ]
    }
   ],
   "source": [
    "# 섹션 분리 함수 정의\n",
    "def split_sections(text):\n",
    "    import re\n",
    "    # \"비상시 행동요령\", \"화생방 피해대비 행동요령\" 등의 섹션 제목을 기준으로 나누기\n",
    "    sections = re.split(r\"(비상시 행동요령|화생방 피해대비 행동요령|인명·시설 피해시 행동요령)\", text)\n",
    "    \n",
    "    # 섹션 제목과 내용을 묶음\n",
    "    structured_data = [{\"title\": sections[i], \"content\": sections[i+1].strip()} \n",
    "                       for i in range(1, len(sections), 2)]\n",
    "    return structured_data\n",
    "\n",
    "# 섹션별로 데이터 나누기\n",
    "structured_data = split_sections(cleaned_text)\n",
    "\n",
    "# 결과 출력 확인\n",
    "for section in structured_data:\n",
    "    print(f\"제목: {section['title']}\\n내용: {section['content'][:1000]}...\\n\")\n"
   ]
  },
  {
   "cell_type": "code",
   "execution_count": null,
   "id": "909929bc-9090-4e7b-b17c-783f389fccc4",
   "metadata": {},
   "outputs": [],
   "source": []
  }
 ],
 "metadata": {
  "kernelspec": {
   "display_name": "Python 3 (ipykernel)",
   "language": "python",
   "name": "python3"
  },
  "language_info": {
   "codemirror_mode": {
    "name": "ipython",
    "version": 3
   },
   "file_extension": ".py",
   "mimetype": "text/x-python",
   "name": "python",
   "nbconvert_exporter": "python",
   "pygments_lexer": "ipython3",
   "version": "3.12.4"
  }
 },
 "nbformat": 4,
 "nbformat_minor": 5
}
